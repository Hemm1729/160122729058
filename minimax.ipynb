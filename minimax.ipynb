{
 "cells": [
  {
   "cell_type": "code",
   "execution_count": 10,
   "id": "6b701b45",
   "metadata": {},
   "outputs": [
    {
     "name": "stdout",
     "output_type": "stream",
     "text": [
      "https://twitter.com\n",
      "https://twitter.com\n",
      "https://twitter.com\n",
      "https://twitter.com\n"
     ]
    }
   ],
   "source": [
    "import re\n",
    "txt=\"\"\"Follow our leader Elon Musk on Twitter here:\n",
    "https://twitter.com/elonmusk.Also Tesla's products can be\n",
    "found at https://www.tesla.com/.Also here for Tesla related\n",
    "news,\n",
    "https://twitter.com/teslarati\n",
    "https://twitter.com/dummy_tesla\n",
    "https://twitter.com/dummy_2_tesla\"\"\"\n",
    "pattern=r'https://twitter\\.com'\n",
    "matches=re.findall(pattern,txt)\n",
    "for i in matches:\n",
    "    print(i)"
   ]
  },
  {
   "cell_type": "code",
   "execution_count": null,
   "id": "f8ec5194",
   "metadata": {},
   "outputs": [],
   "source": []
  }
 ],
 "metadata": {
  "kernelspec": {
   "display_name": "Python 3 (ipykernel)",
   "language": "python",
   "name": "python3"
  },
  "language_info": {
   "codemirror_mode": {
    "name": "ipython",
    "version": 3
   },
   "file_extension": ".py",
   "mimetype": "text/x-python",
   "name": "python",
   "nbconvert_exporter": "python",
   "pygments_lexer": "ipython3",
   "version": "3.10.9"
  }
 },
 "nbformat": 4,
 "nbformat_minor": 5
}
